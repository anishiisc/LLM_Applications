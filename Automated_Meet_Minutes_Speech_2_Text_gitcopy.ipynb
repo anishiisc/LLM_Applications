{
 "cells": [
  {
   "cell_type": "markdown",
   "metadata": {},
   "source": [
    "# Automated Audio Transcription of Earnings Call with  Summary, Key Information Extraction and Sentiment Analysis Using LLMs\n"
   ]
  },
  {
   "cell_type": "markdown",
   "metadata": {},
   "source": [
    "## Objective \n",
    "\n",
    "\n",
    "The following code uses Whisper and GPT-4o to transcribe audio from a meeting, provides a summary of the discussion, extracts key points and action items, and performs a sentiment analysis."
   ]
  },
  {
   "cell_type": "markdown",
   "metadata": {},
   "source": [
    "## Install Packages \n",
    "\n",
    "Install `python-docx` and `OpenAI` libraries:"
   ]
  },
  {
   "cell_type": "code",
   "execution_count": 1,
   "metadata": {},
   "outputs": [],
   "source": [
    "#! pip install openai\n",
    "#! pip install python-docx"
   ]
  },
  {
   "cell_type": "markdown",
   "metadata": {},
   "source": [
    "## Set up OPEN AI Connect Credentials\n",
    "\n",
    "\n"
   ]
  },
  {
   "cell_type": "code",
   "execution_count": 3,
   "metadata": {},
   "outputs": [],
   "source": [
    "from openai import OpenAI\n",
    "\n",
    "client = OpenAI(api_key = \"sk-proj-xxx\")\n",
    "\n"
   ]
  },
  {
   "cell_type": "markdown",
   "metadata": {},
   "source": [
    "## Transcribe a Given Audio File Using  Whisper Model \n",
    "\n",
    "Here we define a function to transcribean audio file. \n",
    "When this function is called with the path to an audio file (like a .mp3 or .wav file), it opens the file, sends it to OpenAI's Whisper model using an API request, and returns the transcription of the audio as text."
   ]
  },
  {
   "cell_type": "code",
   "execution_count": 4,
   "metadata": {},
   "outputs": [],
   "source": [
    "from docx import Document\n",
    "\n",
    "def transcribe_audio(audio_file_path):\n",
    "    with open(audio_file_path, 'rb') as audio_file:\n",
    "        transcription = client.audio.transcriptions.create(model = \"whisper-1\", file = audio_file)\n",
    "    return transcription.text"
   ]
  },
  {
   "cell_type": "markdown",
   "metadata": {},
   "source": [
    "## Summarize and Analyse Transcribed Audio Using  `GPT-4o` \n",
    "\n",
    "Here we pass the text of the transcribed audio to `GPT-4o` to perform the following the tasks \n",
    "\n",
    "- summarize the entire discussion \n",
    "- extract key points \n",
    "- identify action items mentioned in the call\n",
    "- sentiment analysis \n",
    "\n",
    "The meeting_minutes() function as defined below calls four individual user defined functions to achieve the above tasks. "
   ]
  },
  {
   "cell_type": "code",
   "execution_count": 5,
   "metadata": {},
   "outputs": [],
   "source": [
    "def meeting_minutes(transcription):\n",
    "    abstract_summary = abstract_summary_extraction(transcription)\n",
    "    key_points = key_points_extraction(transcription)\n",
    "    action_items = action_item_extraction(transcription)\n",
    "    sentiment = sentiment_analysis(transcription)\n",
    "    return {\n",
    "        'abstract_summary': abstract_summary,\n",
    "        'key_points': key_points,\n",
    "        'action_items': action_items,\n",
    "        'sentiment': sentiment\n",
    "    }"
   ]
  },
  {
   "cell_type": "markdown",
   "metadata": {},
   "source": [
    "### Summary Extraction \n",
    "\n",
    "`abstract_summary_extraction` summarizes the transcription into a concise abstract paragraph with the aim to retain the most important points while avoiding unnecessary details or tangential points. "
   ]
  },
  {
   "cell_type": "code",
   "execution_count": 6,
   "metadata": {},
   "outputs": [],
   "source": [
    "def abstract_summary_extraction(transcription):\n",
    "    completion =  client.chat.completions.create(\n",
    "        model = \"gpt-4o\",\n",
    "        temperature = 0,\n",
    "        messages=[\n",
    "            {\n",
    "                \"role\": \"system\",\n",
    "                \"content\": \"You are a highly skilled AI trained in language comprehension and summarization. I would like you to read the following text and summarize it into a concise abstract paragraph. Aim to retain the most important points, providing a coherent and readable summary that could help a person understand the main points of the discussion without needing to read the entire text. Please avoid unnecessary details or tangential points.\"\n",
    "            },\n",
    "            {\n",
    "                \"role\": \"user\",\n",
    "                \"content\": transcription\n",
    "            }\n",
    "        ]\n",
    "    )\n",
    "    return completion.choices[0].message.content"
   ]
  },
  {
   "cell_type": "markdown",
   "metadata": {},
   "source": [
    "### Key points extraction \n",
    "\n",
    "The `key_points_extraction` function identifies and lists the main points discussed in the meeting. These points represent the most important ideas, findings, or topics crucial to the essence of the discussion. "
   ]
  },
  {
   "cell_type": "code",
   "execution_count": 7,
   "metadata": {},
   "outputs": [],
   "source": [
    "\n",
    "def key_points_extraction(transcription):\n",
    "    completion = client.chat.completions.create(\n",
    "        model=\"gpt-4o\",\n",
    "        temperature=0,\n",
    "        messages=[\n",
    "            {\n",
    "                \"role\": \"system\",\n",
    "                \"content\": \"You are a proficient AI with a specialty in distilling information into key points. Based on the following text, identify and list the main points that were discussed or brought up. These should be the most important ideas, findings, or topics that are crucial to the essence of the discussion. Your goal is to provide a list that someone could read to quickly understand what was talked about.\"\n",
    "            },\n",
    "            {\n",
    "                \"role\": \"user\",\n",
    "                \"content\": transcription\n",
    "            }\n",
    "        ]\n",
    "    )\n",
    "    return completion.choices[0].message.content"
   ]
  },
  {
   "cell_type": "markdown",
   "metadata": {},
   "source": [
    "### Action item extraction \n",
    "\n",
    "The `action_item_extraction` function identifies tasks, assignments, or actions agreed upon or mentioned during the meeting."
   ]
  },
  {
   "cell_type": "code",
   "execution_count": 8,
   "metadata": {},
   "outputs": [],
   "source": [
    "\n",
    "def action_item_extraction(transcription):\n",
    "    completion = client.chat.completions.create(\n",
    "        model=\"gpt-4o-mini\",\n",
    "        temperature=0,\n",
    "        messages=[\n",
    "            {\n",
    "                \"role\": \"system\",\n",
    "                \"content\": \"You are an AI expert in analyzing conversations and extracting action items. Please review the text and identify any tasks, assignments, or actions that were agreed upon or mentioned as needing to be done. These could be tasks assigned to specific individuals, or general actions that the group has decided to take. Please list these action items clearly and concisely.\"\n",
    "            },\n",
    "            {\n",
    "                \"role\": \"user\",\n",
    "                \"content\": transcription\n",
    "            }\n",
    "        ]\n",
    "    )\n",
    "    return completion.choices[0].message.content"
   ]
  },
  {
   "cell_type": "markdown",
   "metadata": {},
   "source": [
    "### Sentiment_analysis\n",
    "\n",
    "The `sentiment_analysis` function analyzes the overall sentiment of the discussion. It considers the tone, the emotions conveyed by the language used, and the context in which words and phrases are used."
   ]
  },
  {
   "cell_type": "code",
   "execution_count": 9,
   "metadata": {},
   "outputs": [],
   "source": [
    "def sentiment_analysis(transcription):\n",
    "    completion = client.chat.completions.create(\n",
    "        model=\"gpt-4o-mini\",\n",
    "        temperature=0,\n",
    "        messages=[\n",
    "            {\n",
    "                \"role\": \"system\",\n",
    "                \"content\": \"As an AI with expertise in language and emotion analysis, your task is to analyze the sentiment of the following text. Please consider the overall tone of the discussion, the emotion conveyed by the language used, and the context in which words and phrases are used. Indicate whether the sentiment is generally positive, negative, or neutral, and provide brief explanations for your analysis where possible.\"\n",
    "            },\n",
    "            {\n",
    "                \"role\": \"user\",\n",
    "                \"content\": transcription\n",
    "            }\n",
    "        ]\n",
    "    )\n",
    "    return completion.choices[0].message.content"
   ]
  },
  {
   "cell_type": "markdown",
   "metadata": {},
   "source": [
    "### Export extracted summaries to Word Doc format \n",
    "\n",
    "We export the meeting minutes to a Word document. separated by sections "
   ]
  },
  {
   "cell_type": "code",
   "execution_count": 12,
   "metadata": {},
   "outputs": [],
   "source": [
    "def save_as_docx(minutes, filename):\n",
    "    doc = Document()\n",
    "    for key, value in minutes.items():\n",
    "        # Replace underscores with spaces and capitalize each word for the heading\n",
    "        heading = ' '.join(word.capitalize() for word in key.split('_'))\n",
    "        doc.add_heading(heading, level=1)\n",
    "        doc.add_paragraph(value)\n",
    "        # Add a line break between sections\n",
    "        doc.add_paragraph()\n",
    "    doc.save(filename)"
   ]
  },
  {
   "cell_type": "markdown",
   "metadata": {},
   "source": [
    "### Putting it all together \n",
    "\n",
    "Finally, we put it all together and generate the meeting minutes from an audio file:"
   ]
  },
  {
   "cell_type": "markdown",
   "metadata": {},
   "source": [
    "#### Transcribe Audio File "
   ]
  },
  {
   "cell_type": "code",
   "execution_count": null,
   "metadata": {},
   "outputs": [],
   "source": [
    "audio_file_path = \"EarningsCall_processed.wav\"\n",
    "transcription = transcribe_audio(audio_file_path)"
   ]
  },
  {
   "cell_type": "markdown",
   "metadata": {},
   "source": [
    "#### Extract summaries from transcription "
   ]
  },
  {
   "cell_type": "code",
   "execution_count": 14,
   "metadata": {},
   "outputs": [
    {
     "name": "stdout",
     "output_type": "stream",
     "text": [
      "{'abstract_summary': \"FinTech Plus reported a strong second quarter in 2023, with a 25% year-over-year revenue increase to $125 million and a gross profit margin of 58%. The company's EBITDA reached $37.5 million, reflecting a 30% margin, while net income rose to $16 million from $10 million in the previous year. The expansion of their high-yield savings products and a new RoboAdvisor platform has significantly grown their market. They have diversified their asset-backed securities portfolio and invested $25 million in AAA-rated corporate bonds. The balance sheet shows total assets of $1.5 billion and liabilities of $900 million, resulting in $600 million in equity and a debt-to-equity ratio of 1.5. Customer acquisition costs have decreased by 15%, and lifetime value has increased by 25%, with an LTVCAC ratio of 3.5. Risk management includes a value-at-risk model with a 99% confidence level, and a tier-one capital ratio of 12.5%. The company forecasts an 8% quarter-over-quarter revenue growth to $135 million, driven by blockchain and AI solutions. An upcoming IPO of their subsidiary, Pay Plus, is expected to raise $200 million, enhancing liquidity for future growth.\", 'key_points': '1. FinTech Plus reported Q2 2023 revenue of $125 million, a 25% increase year over year.\\n2. Gross profit margin is at 58%, attributed to cost efficiencies from a scalable business model.\\n3. EBITDA reached $37.5 million, with a 30% EBITDA margin.\\n4. Net income rose to $16 million, up from $10 million in Q2 2022.\\n5. Expansion of high-yield savings products and a new RoboAdvisor platform increased the total addressable market.\\n6. Diversification of asset-backed securities portfolio, including investments in collateralized debt obligations and residential mortgage-backed securities.\\n7. $25 million investment in AAA-rated corporate bonds to enhance risk-adjusted returns.\\n8. Total assets are $1.5 billion, with liabilities at $900 million, resulting in $600 million in equity.\\n9. Debt-to-equity ratio is 1.5, considered healthy during the expansion phase.\\n10. Organic user growth is strong, with a 15% reduction in customer acquisition costs and a 25% increase in lifetime value.\\n11. LTVCAC ratio stands at 3.5.\\n12. Risk management includes a value-at-risk model with a 99% confidence level, capping maximum loss at $5 million per trading day.\\n13. Conservative leverage management with a tier-one capital ratio of 12.5%.\\n14. Positive forecast for the next quarter with expected revenue of $135 million and 8% quarter-over-quarter growth.\\n15. Growth driven by blockchain solutions and AI-driven predictive analytics.\\n16. Upcoming IPO of fintech subsidiary Pay Plus, expected to raise $200 million, enhancing liquidity and supporting growth strategies.\\n17. Appreciation expressed to shareholders with optimism for a successful Q3.', 'action_items': 'Based on the earnings call transcript, here are the identified action items:\\n\\n1. **Monitor Revenue Growth**: Continue to track revenue growth with a target of reaching approximately $135 million in the next quarter.\\n\\n2. **Evaluate Blockchain Solutions and AI Analytics**: Focus on the development and implementation of blockchain solutions and AI-driven predictive analytics to drive growth.\\n\\n3. **Prepare for Pay Plus IPO**: Finalize preparations for the IPO of the fintech subsidiary, Pay Plus, aiming to raise $200 million.\\n\\n4. **Maintain Risk Management Practices**: Continue to uphold the value-at-risk model and conservative leverage management to ensure financial stability.\\n\\n5. **Report on Customer Acquisition Costs and Lifetime Value**: Keep monitoring customer acquisition costs and lifetime value metrics to ensure continued improvement.\\n\\n6. **Communicate with Shareholders**: Maintain open communication with shareholders regarding company performance and future strategies.\\n\\n7. **Assess Asset-Backed Securities Portfolio**: Regularly review and assess the diversification of the asset-backed securities portfolio, including investments in collateralized debt obligations and residential mortgage-backed securities.\\n\\n8. **Evaluate Financial Ratios**: Keep an eye on financial ratios such as debt-to-equity and tier-one capital ratio to ensure they remain healthy during the expansion phase. \\n\\nThese action items reflect the strategic focus and operational tasks that need to be addressed moving forward.', 'sentiment': 'The sentiment of the text is generally positive. \\n\\n**Explanation:**\\n\\n1. **Tone and Language**: The language used throughout the earnings call is optimistic and confident. Phrases like \"stellar Q2,\" \"remarkable 30% EBITDA margin,\" and \"noteworthy increase\" convey a strong sense of achievement and success.\\n\\n2. **Financial Performance**: The text highlights significant financial growth, including a 25% increase in revenue year over year and a rise in net income from $10 million to $16 million. These figures indicate strong performance, which contributes to the overall positive sentiment.\\n\\n3. **Future Outlook**: The forecast for the upcoming quarter is also positive, with expectations of continued revenue growth and the introduction of new products. The mention of an upcoming IPO and aggressive growth strategies further enhances the optimistic tone.\\n\\n4. **Risk Management**: The discussion of risk management, including a conservative approach to leverage and a healthy capital ratio, suggests a responsible and strategic outlook, which can instill confidence in stakeholders.\\n\\nOverall, the combination of strong financial results, a positive outlook for future growth, and effective risk management contributes to a sentiment that is decidedly positive.'}\n"
     ]
    }
   ],
   "source": [
    "minutes = meeting_minutes(transcription)\n",
    "print(minutes)"
   ]
  },
  {
   "cell_type": "markdown",
   "metadata": {},
   "source": [
    "#### Save in word format "
   ]
  },
  {
   "cell_type": "code",
   "execution_count": 15,
   "metadata": {},
   "outputs": [],
   "source": [
    "save_as_docx(minutes, 'meeting_minutes.docx')\n"
   ]
  },
  {
   "cell_type": "markdown",
   "metadata": {},
   "source": [
    "### End of Notebook"
   ]
  }
 ],
 "metadata": {
  "kernelspec": {
   "display_name": "Python 3 (ipykernel)",
   "language": "python",
   "name": "python3"
  },
  "language_info": {
   "codemirror_mode": {
    "name": "ipython",
    "version": 3
   },
   "file_extension": ".py",
   "mimetype": "text/x-python",
   "name": "python",
   "nbconvert_exporter": "python",
   "pygments_lexer": "ipython3",
   "version": "3.10.9"
  }
 },
 "nbformat": 4,
 "nbformat_minor": 2
}
